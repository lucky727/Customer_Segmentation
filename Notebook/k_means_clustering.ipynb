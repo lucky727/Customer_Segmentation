{
  "cells": [
    {
      "cell_type": "markdown",
      "metadata": {
        "colab_type": "text",
        "id": "J0VwxCT2u1ag"
      },
      "source": [
        "Importing the libraries"
      ]
    },
    {
      "cell_type": "code",
      "execution_count": 1,
      "metadata": {
        "colab": {},
        "colab_type": "code",
        "id": "HDx01hsHu1ai"
      },
      "outputs": [],
      "source": [
        "import pandas as pd\n",
        "import datetime\n",
        "import matplotlib.pyplot as plt\n",
        "import seaborn as sns\n",
        "import plotly as px\n",
        "from sklearn.cluster import KMeans\n",
        "import plotly.graph_objects as go\n",
        "import plotly.figure_factory as ff\n",
        "import numpy as np\n",
        "\n",
        "\n"
      ]
    },
    {
      "cell_type": "markdown",
      "metadata": {
        "colab_type": "text",
        "id": "hfezJaz7u1ao"
      },
      "source": [
        "Importing the open source online retail dataset"
      ]
    },
    {
      "cell_type": "code",
      "execution_count": 16,
      "metadata": {
        "colab": {},
        "colab_type": "code",
        "id": "xkZHY9JJu1ap",
        "outputId": "ed0e2d3a-12d1-4e95-e52a-c9ea775c3dec"
      },
      "outputs": [
        {
          "data": {
            "text/html": [
              "<div>\n",
              "<style scoped>\n",
              "    .dataframe tbody tr th:only-of-type {\n",
              "        vertical-align: middle;\n",
              "    }\n",
              "\n",
              "    .dataframe tbody tr th {\n",
              "        vertical-align: top;\n",
              "    }\n",
              "\n",
              "    .dataframe thead th {\n",
              "        text-align: right;\n",
              "    }\n",
              "</style>\n",
              "<table border=\"1\" class=\"dataframe\">\n",
              "  <thead>\n",
              "    <tr style=\"text-align: right;\">\n",
              "      <th></th>\n",
              "      <th>InvoiceNo</th>\n",
              "      <th>StockCode</th>\n",
              "      <th>Description</th>\n",
              "      <th>Quantity</th>\n",
              "      <th>InvoiceDate</th>\n",
              "      <th>UnitPrice</th>\n",
              "      <th>CustomerID</th>\n",
              "      <th>Country</th>\n",
              "    </tr>\n",
              "  </thead>\n",
              "  <tbody>\n",
              "    <tr>\n",
              "      <th>0</th>\n",
              "      <td>536365</td>\n",
              "      <td>85123A</td>\n",
              "      <td>WHITE HANGING HEART T-LIGHT HOLDER</td>\n",
              "      <td>6</td>\n",
              "      <td>12/01/2010 08:26:00</td>\n",
              "      <td>2.55</td>\n",
              "      <td>17850.0</td>\n",
              "      <td>United Kingdom</td>\n",
              "    </tr>\n",
              "    <tr>\n",
              "      <th>1</th>\n",
              "      <td>536365</td>\n",
              "      <td>71053</td>\n",
              "      <td>WHITE METAL LANTERN</td>\n",
              "      <td>6</td>\n",
              "      <td>12/01/2010 08:26:00</td>\n",
              "      <td>3.39</td>\n",
              "      <td>17850.0</td>\n",
              "      <td>United Kingdom</td>\n",
              "    </tr>\n",
              "    <tr>\n",
              "      <th>2</th>\n",
              "      <td>536365</td>\n",
              "      <td>84406B</td>\n",
              "      <td>CREAM CUPID HEARTS COAT HANGER</td>\n",
              "      <td>8</td>\n",
              "      <td>12/01/2010 08:26:00</td>\n",
              "      <td>2.75</td>\n",
              "      <td>17850.0</td>\n",
              "      <td>United Kingdom</td>\n",
              "    </tr>\n",
              "    <tr>\n",
              "      <th>3</th>\n",
              "      <td>536365</td>\n",
              "      <td>84029G</td>\n",
              "      <td>KNITTED UNION FLAG HOT WATER BOTTLE</td>\n",
              "      <td>6</td>\n",
              "      <td>12/01/2010 08:26:00</td>\n",
              "      <td>3.39</td>\n",
              "      <td>17850.0</td>\n",
              "      <td>United Kingdom</td>\n",
              "    </tr>\n",
              "    <tr>\n",
              "      <th>4</th>\n",
              "      <td>536365</td>\n",
              "      <td>84029E</td>\n",
              "      <td>RED WOOLLY HOTTIE WHITE HEART.</td>\n",
              "      <td>6</td>\n",
              "      <td>12/01/2010 08:26:00</td>\n",
              "      <td>3.39</td>\n",
              "      <td>17850.0</td>\n",
              "      <td>United Kingdom</td>\n",
              "    </tr>\n",
              "  </tbody>\n",
              "</table>\n",
              "</div>"
            ],
            "text/plain": [
              "  InvoiceNo StockCode                          Description  Quantity  \\\n",
              "0    536365    85123A   WHITE HANGING HEART T-LIGHT HOLDER         6   \n",
              "1    536365     71053                  WHITE METAL LANTERN         6   \n",
              "2    536365    84406B       CREAM CUPID HEARTS COAT HANGER         8   \n",
              "3    536365    84029G  KNITTED UNION FLAG HOT WATER BOTTLE         6   \n",
              "4    536365    84029E       RED WOOLLY HOTTIE WHITE HEART.         6   \n",
              "\n",
              "           InvoiceDate  UnitPrice  CustomerID         Country  \n",
              "0  12/01/2010 08:26:00       2.55     17850.0  United Kingdom  \n",
              "1  12/01/2010 08:26:00       3.39     17850.0  United Kingdom  \n",
              "2  12/01/2010 08:26:00       2.75     17850.0  United Kingdom  \n",
              "3  12/01/2010 08:26:00       3.39     17850.0  United Kingdom  \n",
              "4  12/01/2010 08:26:00       3.39     17850.0  United Kingdom  "
            ]
          },
          "execution_count": 16,
          "metadata": {},
          "output_type": "execute_result"
        }
      ],
      "source": [
        "df=pd.read_csv('C:\\\\Users\\\\lucky\\\\Downloads\\\\Customer_Segmentation\\\\reatil.csv',encoding= \"utf-16 LE\")\n",
        "df.head()"
      ]
    },
    {
      "cell_type": "markdown",
      "metadata": {
        "colab_type": "text",
        "id": "NhVAjgknu1aw"
      },
      "source": [
        "Checking the countries for which the dataset is available"
      ]
    },
    {
      "cell_type": "code",
      "execution_count": 17,
      "metadata": {
        "colab": {},
        "colab_type": "code",
        "id": "TrXGwAXcu1aw",
        "outputId": "e63c75b9-7a81-4510-e555-63e3beed6867"
      },
      "outputs": [
        {
          "data": {
            "text/plain": [
              "array(['United Kingdom', 'France', 'Australia', 'Netherlands', 'Germany',\n",
              "       'Norway', 'EIRE', 'Switzerland', 'Spain', 'Poland', 'Portugal',\n",
              "       'Italy', 'Belgium', 'Lithuania', 'Japan', 'Iceland',\n",
              "       'Channel Islands', 'Denmark', 'Cyprus', 'Sweden', 'Austria',\n",
              "       'Israel', 'Finland', 'Bahrain', 'Greece', 'Hong Kong', 'Singapore',\n",
              "       'Lebanon', 'United Arab Emirates', 'Saudi Arabia',\n",
              "       'Czech Republic', 'Canada', 'Unspecified', 'Brazil', 'USA',\n",
              "       'European Community', 'Malta', 'RSA'], dtype=object)"
            ]
          },
          "execution_count": 17,
          "metadata": {},
          "output_type": "execute_result"
        }
      ],
      "source": [
        "df['Country'].unique()"
      ]
    },
    {
      "cell_type": "markdown",
      "metadata": {
        "colab_type": "text",
        "id": "J79Y2pzsu1a1"
      },
      "source": [
        "Choosing to analyse the customer segmentation for the Switzerland and Norway"
      ]
    },
    {
      "cell_type": "markdown",
      "metadata": {
        "colab_type": "text",
        "id": "rctRwF7Xu1a2"
      },
      "source": [
        "Extracting the data for Switzerland from the main dataset"
      ]
    },
    {
      "cell_type": "code",
      "execution_count": 18,
      "metadata": {
        "colab": {},
        "colab_type": "code",
        "id": "rTBcm95Vu1a3",
        "outputId": "6b8f021e-fd11-406c-b221-773f543f5653"
      },
      "outputs": [
        {
          "data": {
            "text/html": [
              "<div>\n",
              "<style scoped>\n",
              "    .dataframe tbody tr th:only-of-type {\n",
              "        vertical-align: middle;\n",
              "    }\n",
              "\n",
              "    .dataframe tbody tr th {\n",
              "        vertical-align: top;\n",
              "    }\n",
              "\n",
              "    .dataframe thead th {\n",
              "        text-align: right;\n",
              "    }\n",
              "</style>\n",
              "<table border=\"1\" class=\"dataframe\">\n",
              "  <thead>\n",
              "    <tr style=\"text-align: right;\">\n",
              "      <th></th>\n",
              "      <th>InvoiceNo</th>\n",
              "      <th>StockCode</th>\n",
              "      <th>Description</th>\n",
              "      <th>Quantity</th>\n",
              "      <th>InvoiceDate</th>\n",
              "      <th>UnitPrice</th>\n",
              "      <th>CustomerID</th>\n",
              "      <th>Country</th>\n",
              "    </tr>\n",
              "  </thead>\n",
              "  <tbody>\n",
              "    <tr>\n",
              "      <th>5320</th>\n",
              "      <td>536858</td>\n",
              "      <td>22326</td>\n",
              "      <td>ROUND SNACK BOXES SET OF4 WOODLAND</td>\n",
              "      <td>30</td>\n",
              "      <td>12/03/2010 10:36:00</td>\n",
              "      <td>2.95</td>\n",
              "      <td>13520.0</td>\n",
              "      <td>Switzerland</td>\n",
              "    </tr>\n",
              "    <tr>\n",
              "      <th>5321</th>\n",
              "      <td>536858</td>\n",
              "      <td>22554</td>\n",
              "      <td>PLASTERS IN TIN WOODLAND ANIMALS</td>\n",
              "      <td>36</td>\n",
              "      <td>12/03/2010 10:36:00</td>\n",
              "      <td>1.65</td>\n",
              "      <td>13520.0</td>\n",
              "      <td>Switzerland</td>\n",
              "    </tr>\n",
              "    <tr>\n",
              "      <th>5322</th>\n",
              "      <td>536858</td>\n",
              "      <td>21731</td>\n",
              "      <td>RED TOADSTOOL LED NIGHT LIGHT</td>\n",
              "      <td>24</td>\n",
              "      <td>12/03/2010 10:36:00</td>\n",
              "      <td>1.65</td>\n",
              "      <td>13520.0</td>\n",
              "      <td>Switzerland</td>\n",
              "    </tr>\n",
              "    <tr>\n",
              "      <th>5323</th>\n",
              "      <td>536858</td>\n",
              "      <td>20677</td>\n",
              "      <td>PINK POLKADOT BOWL</td>\n",
              "      <td>16</td>\n",
              "      <td>12/03/2010 10:36:00</td>\n",
              "      <td>1.25</td>\n",
              "      <td>13520.0</td>\n",
              "      <td>Switzerland</td>\n",
              "    </tr>\n",
              "    <tr>\n",
              "      <th>5324</th>\n",
              "      <td>536858</td>\n",
              "      <td>20750</td>\n",
              "      <td>RED RETROSPOT MINI CASES</td>\n",
              "      <td>2</td>\n",
              "      <td>12/03/2010 10:36:00</td>\n",
              "      <td>7.95</td>\n",
              "      <td>13520.0</td>\n",
              "      <td>Switzerland</td>\n",
              "    </tr>\n",
              "  </tbody>\n",
              "</table>\n",
              "</div>"
            ],
            "text/plain": [
              "     InvoiceNo StockCode                          Description  Quantity  \\\n",
              "5320    536858     22326  ROUND SNACK BOXES SET OF4 WOODLAND         30   \n",
              "5321    536858     22554     PLASTERS IN TIN WOODLAND ANIMALS        36   \n",
              "5322    536858     21731        RED TOADSTOOL LED NIGHT LIGHT        24   \n",
              "5323    536858     20677                   PINK POLKADOT BOWL        16   \n",
              "5324    536858     20750             RED RETROSPOT MINI CASES         2   \n",
              "\n",
              "              InvoiceDate  UnitPrice  CustomerID      Country  \n",
              "5320  12/03/2010 10:36:00       2.95     13520.0  Switzerland  \n",
              "5321  12/03/2010 10:36:00       1.65     13520.0  Switzerland  \n",
              "5322  12/03/2010 10:36:00       1.65     13520.0  Switzerland  \n",
              "5323  12/03/2010 10:36:00       1.25     13520.0  Switzerland  \n",
              "5324  12/03/2010 10:36:00       7.95     13520.0  Switzerland  "
            ]
          },
          "execution_count": 18,
          "metadata": {},
          "output_type": "execute_result"
        }
      ],
      "source": [
        "df_swiss=df.loc[df['Country'] == 'Switzerland']\n",
        "df_swiss.head()"
      ]
    },
    {
      "cell_type": "markdown",
      "metadata": {
        "colab_type": "text",
        "id": "_jkrhkUxu1bA"
      },
      "source": [
        "Converting Invoice Dates to date time format and making a new column named Amount which tells the total money spent on that invoice"
      ]
    },
    {
      "cell_type": "code",
      "execution_count": 19,
      "metadata": {
        "colab": {},
        "colab_type": "code",
        "id": "nn-PUSPQu1bA",
        "outputId": "e2295647-54fb-4243-ba63-042a9e5d66bf"
      },
      "outputs": [
        {
          "data": {
            "text/html": [
              "<div>\n",
              "<style scoped>\n",
              "    .dataframe tbody tr th:only-of-type {\n",
              "        vertical-align: middle;\n",
              "    }\n",
              "\n",
              "    .dataframe tbody tr th {\n",
              "        vertical-align: top;\n",
              "    }\n",
              "\n",
              "    .dataframe thead th {\n",
              "        text-align: right;\n",
              "    }\n",
              "</style>\n",
              "<table border=\"1\" class=\"dataframe\">\n",
              "  <thead>\n",
              "    <tr style=\"text-align: right;\">\n",
              "      <th></th>\n",
              "      <th>InvoiceNo</th>\n",
              "      <th>StockCode</th>\n",
              "      <th>Description</th>\n",
              "      <th>Quantity</th>\n",
              "      <th>InvoiceDate</th>\n",
              "      <th>UnitPrice</th>\n",
              "      <th>CustomerID</th>\n",
              "      <th>Country</th>\n",
              "      <th>Amount</th>\n",
              "    </tr>\n",
              "  </thead>\n",
              "  <tbody>\n",
              "    <tr>\n",
              "      <th>5320</th>\n",
              "      <td>536858</td>\n",
              "      <td>22326</td>\n",
              "      <td>ROUND SNACK BOXES SET OF4 WOODLAND</td>\n",
              "      <td>30</td>\n",
              "      <td>2010-12-03 10:36:00</td>\n",
              "      <td>2.95</td>\n",
              "      <td>13520.0</td>\n",
              "      <td>Switzerland</td>\n",
              "      <td>88.5</td>\n",
              "    </tr>\n",
              "    <tr>\n",
              "      <th>5321</th>\n",
              "      <td>536858</td>\n",
              "      <td>22554</td>\n",
              "      <td>PLASTERS IN TIN WOODLAND ANIMALS</td>\n",
              "      <td>36</td>\n",
              "      <td>2010-12-03 10:36:00</td>\n",
              "      <td>1.65</td>\n",
              "      <td>13520.0</td>\n",
              "      <td>Switzerland</td>\n",
              "      <td>59.4</td>\n",
              "    </tr>\n",
              "    <tr>\n",
              "      <th>5322</th>\n",
              "      <td>536858</td>\n",
              "      <td>21731</td>\n",
              "      <td>RED TOADSTOOL LED NIGHT LIGHT</td>\n",
              "      <td>24</td>\n",
              "      <td>2010-12-03 10:36:00</td>\n",
              "      <td>1.65</td>\n",
              "      <td>13520.0</td>\n",
              "      <td>Switzerland</td>\n",
              "      <td>39.6</td>\n",
              "    </tr>\n",
              "    <tr>\n",
              "      <th>5323</th>\n",
              "      <td>536858</td>\n",
              "      <td>20677</td>\n",
              "      <td>PINK POLKADOT BOWL</td>\n",
              "      <td>16</td>\n",
              "      <td>2010-12-03 10:36:00</td>\n",
              "      <td>1.25</td>\n",
              "      <td>13520.0</td>\n",
              "      <td>Switzerland</td>\n",
              "      <td>20.0</td>\n",
              "    </tr>\n",
              "    <tr>\n",
              "      <th>5324</th>\n",
              "      <td>536858</td>\n",
              "      <td>20750</td>\n",
              "      <td>RED RETROSPOT MINI CASES</td>\n",
              "      <td>2</td>\n",
              "      <td>2010-12-03 10:36:00</td>\n",
              "      <td>7.95</td>\n",
              "      <td>13520.0</td>\n",
              "      <td>Switzerland</td>\n",
              "      <td>15.9</td>\n",
              "    </tr>\n",
              "  </tbody>\n",
              "</table>\n",
              "</div>"
            ],
            "text/plain": [
              "     InvoiceNo StockCode                          Description  Quantity  \\\n",
              "5320    536858     22326  ROUND SNACK BOXES SET OF4 WOODLAND         30   \n",
              "5321    536858     22554     PLASTERS IN TIN WOODLAND ANIMALS        36   \n",
              "5322    536858     21731        RED TOADSTOOL LED NIGHT LIGHT        24   \n",
              "5323    536858     20677                   PINK POLKADOT BOWL        16   \n",
              "5324    536858     20750             RED RETROSPOT MINI CASES         2   \n",
              "\n",
              "             InvoiceDate  UnitPrice  CustomerID      Country  Amount  \n",
              "5320 2010-12-03 10:36:00       2.95     13520.0  Switzerland    88.5  \n",
              "5321 2010-12-03 10:36:00       1.65     13520.0  Switzerland    59.4  \n",
              "5322 2010-12-03 10:36:00       1.65     13520.0  Switzerland    39.6  \n",
              "5323 2010-12-03 10:36:00       1.25     13520.0  Switzerland    20.0  \n",
              "5324 2010-12-03 10:36:00       7.95     13520.0  Switzerland    15.9  "
            ]
          },
          "execution_count": 19,
          "metadata": {},
          "output_type": "execute_result"
        }
      ],
      "source": [
        "df_swiss['InvoiceDate']= pd.to_datetime(df_swiss['InvoiceDate'],errors='coerce') \n",
        "df_swiss[\"Amount\"] = df_swiss[\"Quantity\"] * df_swiss[\"UnitPrice\"]\n",
        "df_swiss.head()"
      ]
    },
    {
      "cell_type": "markdown",
      "metadata": {
        "colab_type": "text",
        "id": "MKkFkB4au1bI"
      },
      "source": [
        "Checking the start and end date of the Switzerland dataframe"
      ]
    },
    {
      "cell_type": "code",
      "execution_count": 20,
      "metadata": {
        "colab": {},
        "colab_type": "code",
        "id": "gAUkTzFxu1bJ",
        "outputId": "7849d7d3-5ee8-46e8-c092-67e9baa93920",
        "tags": []
      },
      "outputs": [
        {
          "name": "stdout",
          "output_type": "stream",
          "text": [
            "Min2010-12-03 10:36:00;Max2011-11-29 08:40:00\n"
          ]
        }
      ],
      "source": [
        "print('Min{};Max{}'.format(min(df_swiss.InvoiceDate),max(df_swiss.InvoiceDate)))"
      ]
    },
    {
      "cell_type": "markdown",
      "metadata": {
        "colab_type": "text",
        "id": "gwDnZDDAu1c-"
      },
      "source": [
        "Creating a Snapshot date which would count the number of days since the Invoice date to a hypothetical date for analysis of the particular customer and add 1 to it so that the initial date is not 0. This would calculate the \"Recency\""
      ]
    },
    {
      "cell_type": "code",
      "execution_count": 21,
      "metadata": {
        "colab": {},
        "colab_type": "code",
        "id": "yrajjgvOu1c-"
      },
      "outputs": [
        {
          "data": {
            "text/plain": [
              "Timestamp('2011-11-30 08:40:00')"
            ]
          },
          "execution_count": 21,
          "metadata": {},
          "output_type": "execute_result"
        }
      ],
      "source": [
        "snapshot_date=max(df_swiss.InvoiceDate)+ datetime.timedelta(days=1)\n",
        "snapshot_date"
      ]
    },
    {
      "cell_type": "markdown",
      "metadata": {
        "colab_type": "text",
        "id": "wWPLWDUyu1dD"
      },
      "source": [
        "Making a new dataframe which depicts the Recency. This is a measure that shows the number of days passed since the last purchase."
      ]
    },
    {
      "cell_type": "code",
      "execution_count": 22,
      "metadata": {
        "colab": {},
        "colab_type": "code",
        "id": "2dj0EjAZu1dE",
        "outputId": "c1df1d03-3c85-44fe-f86c-7adc41aeb6ee"
      },
      "outputs": [
        {
          "data": {
            "text/html": [
              "<div>\n",
              "<style scoped>\n",
              "    .dataframe tbody tr th:only-of-type {\n",
              "        vertical-align: middle;\n",
              "    }\n",
              "\n",
              "    .dataframe tbody tr th {\n",
              "        vertical-align: top;\n",
              "    }\n",
              "\n",
              "    .dataframe thead th {\n",
              "        text-align: right;\n",
              "    }\n",
              "</style>\n",
              "<table border=\"1\" class=\"dataframe\">\n",
              "  <thead>\n",
              "    <tr style=\"text-align: right;\">\n",
              "      <th></th>\n",
              "      <th>CustomerID</th>\n",
              "      <th>Recency</th>\n",
              "    </tr>\n",
              "  </thead>\n",
              "  <tbody>\n",
              "    <tr>\n",
              "      <th>0</th>\n",
              "      <td>12357.0</td>\n",
              "      <td>23</td>\n",
              "    </tr>\n",
              "    <tr>\n",
              "      <th>1</th>\n",
              "      <td>12371.0</td>\n",
              "      <td>34</td>\n",
              "    </tr>\n",
              "    <tr>\n",
              "      <th>2</th>\n",
              "      <td>12377.0</td>\n",
              "      <td>305</td>\n",
              "    </tr>\n",
              "    <tr>\n",
              "      <th>3</th>\n",
              "      <td>12378.0</td>\n",
              "      <td>119</td>\n",
              "    </tr>\n",
              "    <tr>\n",
              "      <th>4</th>\n",
              "      <td>12384.0</td>\n",
              "      <td>19</td>\n",
              "    </tr>\n",
              "  </tbody>\n",
              "</table>\n",
              "</div>"
            ],
            "text/plain": [
              "   CustomerID  Recency\n",
              "0     12357.0       23\n",
              "1     12371.0       34\n",
              "2     12377.0      305\n",
              "3     12378.0      119\n",
              "4     12384.0       19"
            ]
          },
          "execution_count": 22,
          "metadata": {},
          "output_type": "execute_result"
        }
      ],
      "source": [
        "recency_df = df_swiss.groupby(by='CustomerID', as_index=False)['InvoiceDate'].max()\n",
        "recency_df.columns = ['CustomerID','LastPurshaceDate']\n",
        "recency_df['Recency'] = recency_df['LastPurshaceDate'].apply(lambda x: (snapshot_date - x).days)\n",
        "recency_df.drop('LastPurshaceDate',axis=1,inplace=True)\n",
        "recency_df.head()"
      ]
    },
    {
      "cell_type": "markdown",
      "metadata": {
        "colab_type": "text",
        "id": "wAvnK4pwu1dH"
      },
      "source": [
        "Making a new dataframe which depicts the Frequency. This is a measure of the number of purchases"
      ]
    },
    {
      "cell_type": "code",
      "execution_count": 23,
      "metadata": {
        "colab": {},
        "colab_type": "code",
        "id": "r7TW_WLyu1dJ",
        "outputId": "ee8558c8-c9b0-4135-8bbf-b36edcafe222"
      },
      "outputs": [
        {
          "data": {
            "text/html": [
              "<div>\n",
              "<style scoped>\n",
              "    .dataframe tbody tr th:only-of-type {\n",
              "        vertical-align: middle;\n",
              "    }\n",
              "\n",
              "    .dataframe tbody tr th {\n",
              "        vertical-align: top;\n",
              "    }\n",
              "\n",
              "    .dataframe thead th {\n",
              "        text-align: right;\n",
              "    }\n",
              "</style>\n",
              "<table border=\"1\" class=\"dataframe\">\n",
              "  <thead>\n",
              "    <tr style=\"text-align: right;\">\n",
              "      <th></th>\n",
              "      <th>CustomerID</th>\n",
              "      <th>Frequency</th>\n",
              "    </tr>\n",
              "  </thead>\n",
              "  <tbody>\n",
              "    <tr>\n",
              "      <th>0</th>\n",
              "      <td>12357.0</td>\n",
              "      <td>131</td>\n",
              "    </tr>\n",
              "    <tr>\n",
              "      <th>1</th>\n",
              "      <td>12371.0</td>\n",
              "      <td>63</td>\n",
              "    </tr>\n",
              "    <tr>\n",
              "      <th>2</th>\n",
              "      <td>12377.0</td>\n",
              "      <td>77</td>\n",
              "    </tr>\n",
              "    <tr>\n",
              "      <th>3</th>\n",
              "      <td>12378.0</td>\n",
              "      <td>219</td>\n",
              "    </tr>\n",
              "    <tr>\n",
              "      <th>4</th>\n",
              "      <td>12384.0</td>\n",
              "      <td>30</td>\n",
              "    </tr>\n",
              "  </tbody>\n",
              "</table>\n",
              "</div>"
            ],
            "text/plain": [
              "   CustomerID  Frequency\n",
              "0     12357.0        131\n",
              "1     12371.0         63\n",
              "2     12377.0         77\n",
              "3     12378.0        219\n",
              "4     12384.0         30"
            ]
          },
          "execution_count": 23,
          "metadata": {},
          "output_type": "execute_result"
        }
      ],
      "source": [
        "frequency_df = df_swiss.groupby(by=['CustomerID'], as_index=False)['InvoiceNo'].count()\n",
        "frequency_df.columns = ['CustomerID','Frequency']\n",
        "frequency_df.head()"
      ]
    },
    {
      "cell_type": "markdown",
      "metadata": {
        "colab_type": "text",
        "id": "5oLd15mxu1dN"
      },
      "source": [
        "Making a new dataframe named Monetary which depicts the total monetary value spent by the customer."
      ]
    },
    {
      "cell_type": "code",
      "execution_count": 26,
      "metadata": {
        "colab": {},
        "colab_type": "code",
        "id": "XOyTjxfzu1dO",
        "outputId": "d0ac77e7-e6e7-4fe6-b152-50d97f8c66dc"
      },
      "outputs": [
        {
          "data": {
            "text/html": [
              "<div>\n",
              "<style scoped>\n",
              "    .dataframe tbody tr th:only-of-type {\n",
              "        vertical-align: middle;\n",
              "    }\n",
              "\n",
              "    .dataframe tbody tr th {\n",
              "        vertical-align: top;\n",
              "    }\n",
              "\n",
              "    .dataframe thead th {\n",
              "        text-align: right;\n",
              "    }\n",
              "</style>\n",
              "<table border=\"1\" class=\"dataframe\">\n",
              "  <thead>\n",
              "    <tr style=\"text-align: right;\">\n",
              "      <th></th>\n",
              "      <th>Amount</th>\n",
              "    </tr>\n",
              "  </thead>\n",
              "  <tbody>\n",
              "    <tr>\n",
              "      <th>0</th>\n",
              "      <td>6207.67</td>\n",
              "    </tr>\n",
              "    <tr>\n",
              "      <th>1</th>\n",
              "      <td>1887.96</td>\n",
              "    </tr>\n",
              "    <tr>\n",
              "      <th>2</th>\n",
              "      <td>1628.12</td>\n",
              "    </tr>\n",
              "    <tr>\n",
              "      <th>3</th>\n",
              "      <td>4008.62</td>\n",
              "    </tr>\n",
              "    <tr>\n",
              "      <th>4</th>\n",
              "      <td>566.16</td>\n",
              "    </tr>\n",
              "  </tbody>\n",
              "</table>\n",
              "</div>"
            ],
            "text/plain": [
              "    Amount\n",
              "0  6207.67\n",
              "1  1887.96\n",
              "2  1628.12\n",
              "3  4008.62\n",
              "4   566.16"
            ]
          },
          "execution_count": 26,
          "metadata": {},
          "output_type": "execute_result"
        }
      ],
      "source": [
        "monetary_df = df_swiss.groupby(by='CustomerID',as_index=False).agg({'Amount':'sum'})\n",
        "monetary_df=monetary_df[['Amount']]\n",
        "monetary_df.head()"
      ]
    },
    {
      "cell_type": "markdown",
      "metadata": {
        "colab_type": "text",
        "id": "MspLTWjFu1dS"
      },
      "source": [
        "Merging the three dataframes"
      ]
    },
    {
      "cell_type": "code",
      "execution_count": 69,
      "metadata": {
        "colab": {},
        "colab_type": "code",
        "id": "fsi0i1beu1dT",
        "outputId": "75c34ea9-abbc-4af6-a540-a23f844f343c"
      },
      "outputs": [
        {
          "name": "stdout",
          "output_type": "stream",
          "text": [
            "Index(['CustomerID', 'Recency', 'Frequency'], dtype='object')\n",
            "Index(['InvoiceNo', 'StockCode', 'Description', 'Quantity', 'InvoiceDate',\n",
            "       'UnitPrice', 'CustomerID', 'Country'],\n",
            "      dtype='object')\n"
          ]
        },
        {
          "data": {
            "text/html": [
              "<div>\n",
              "<style scoped>\n",
              "    .dataframe tbody tr th:only-of-type {\n",
              "        vertical-align: middle;\n",
              "    }\n",
              "\n",
              "    .dataframe tbody tr th {\n",
              "        vertical-align: top;\n",
              "    }\n",
              "\n",
              "    .dataframe thead th {\n",
              "        text-align: right;\n",
              "    }\n",
              "</style>\n",
              "<table border=\"1\" class=\"dataframe\">\n",
              "  <thead>\n",
              "    <tr style=\"text-align: right;\">\n",
              "      <th></th>\n",
              "      <th>Recency</th>\n",
              "      <th>Frequency</th>\n",
              "      <th>InvoiceNo</th>\n",
              "      <th>StockCode</th>\n",
              "      <th>Description</th>\n",
              "      <th>Quantity</th>\n",
              "      <th>InvoiceDate</th>\n",
              "      <th>UnitPrice</th>\n",
              "      <th>Country</th>\n",
              "    </tr>\n",
              "    <tr>\n",
              "      <th>CustomerID</th>\n",
              "      <th></th>\n",
              "      <th></th>\n",
              "      <th></th>\n",
              "      <th></th>\n",
              "      <th></th>\n",
              "      <th></th>\n",
              "      <th></th>\n",
              "      <th></th>\n",
              "      <th></th>\n",
              "    </tr>\n",
              "  </thead>\n",
              "  <tbody>\n",
              "    <tr>\n",
              "      <th>12357.0</th>\n",
              "      <td>23</td>\n",
              "      <td>131</td>\n",
              "      <td>574740</td>\n",
              "      <td>22064</td>\n",
              "      <td>PINK DOUGHNUT TRINKET POT</td>\n",
              "      <td>12</td>\n",
              "      <td>11/06/2011 16:07:00</td>\n",
              "      <td>1.65</td>\n",
              "      <td>Switzerland</td>\n",
              "    </tr>\n",
              "    <tr>\n",
              "      <th>12357.0</th>\n",
              "      <td>23</td>\n",
              "      <td>131</td>\n",
              "      <td>574740</td>\n",
              "      <td>21232</td>\n",
              "      <td>STRAWBERRY CERAMIC TRINKET POT</td>\n",
              "      <td>12</td>\n",
              "      <td>11/06/2011 16:07:00</td>\n",
              "      <td>1.25</td>\n",
              "      <td>Switzerland</td>\n",
              "    </tr>\n",
              "    <tr>\n",
              "      <th>12357.0</th>\n",
              "      <td>23</td>\n",
              "      <td>131</td>\n",
              "      <td>574740</td>\n",
              "      <td>22066</td>\n",
              "      <td>LOVE HEART TRINKET POT</td>\n",
              "      <td>48</td>\n",
              "      <td>11/06/2011 16:07:00</td>\n",
              "      <td>0.39</td>\n",
              "      <td>Switzerland</td>\n",
              "    </tr>\n",
              "    <tr>\n",
              "      <th>12357.0</th>\n",
              "      <td>23</td>\n",
              "      <td>131</td>\n",
              "      <td>574740</td>\n",
              "      <td>22067</td>\n",
              "      <td>CHOC TRUFFLE GOLD TRINKET POT</td>\n",
              "      <td>12</td>\n",
              "      <td>11/06/2011 16:07:00</td>\n",
              "      <td>1.65</td>\n",
              "      <td>Switzerland</td>\n",
              "    </tr>\n",
              "    <tr>\n",
              "      <th>12357.0</th>\n",
              "      <td>23</td>\n",
              "      <td>131</td>\n",
              "      <td>574740</td>\n",
              "      <td>21555</td>\n",
              "      <td>CERAMIC STRAWBERRY TRINKET TRAY</td>\n",
              "      <td>6</td>\n",
              "      <td>11/06/2011 16:07:00</td>\n",
              "      <td>2.55</td>\n",
              "      <td>Switzerland</td>\n",
              "    </tr>\n",
              "  </tbody>\n",
              "</table>\n",
              "</div>"
            ],
            "text/plain": [
              "            Recency  Frequency InvoiceNo StockCode  \\\n",
              "CustomerID                                           \n",
              "12357.0          23        131    574740     22064   \n",
              "12357.0          23        131    574740     21232   \n",
              "12357.0          23        131    574740     22066   \n",
              "12357.0          23        131    574740     22067   \n",
              "12357.0          23        131    574740     21555   \n",
              "\n",
              "                                Description  Quantity          InvoiceDate  \\\n",
              "CustomerID                                                                   \n",
              "12357.0          PINK DOUGHNUT TRINKET POT         12  11/06/2011 16:07:00   \n",
              "12357.0      STRAWBERRY CERAMIC TRINKET POT        12  11/06/2011 16:07:00   \n",
              "12357.0              LOVE HEART TRINKET POT        48  11/06/2011 16:07:00   \n",
              "12357.0      CHOC TRUFFLE GOLD TRINKET POT         12  11/06/2011 16:07:00   \n",
              "12357.0     CERAMIC STRAWBERRY TRINKET TRAY         6  11/06/2011 16:07:00   \n",
              "\n",
              "            UnitPrice      Country  \n",
              "CustomerID                          \n",
              "12357.0          1.65  Switzerland  \n",
              "12357.0          1.25  Switzerland  \n",
              "12357.0          0.39  Switzerland  \n",
              "12357.0          1.65  Switzerland  \n",
              "12357.0          2.55  Switzerland  "
            ]
          },
          "execution_count": 69,
          "metadata": {},
          "output_type": "execute_result"
        }
      ],
      "source": [
        "print(temp_df.columns)\n",
        "print(monetary_df.columns)\n",
        "\n",
        "#.................................\n",
        "temp_df = recency_df.merge(frequency_df,on='CustomerID')\n",
        "\n",
        "rfm_df = temp_df.merge(monetary_df,on='CustomerID')\n",
        "rfm_df.set_index('CustomerID',inplace=True)\n",
        "rfm_df.rename(columns = {'Recency': 'Recency','Frequency': 'Frequency',('Amount', 'Amount'): 'Monetary'}, inplace=True)\n",
        "rfm_df.head()\n",
        "\n"
      ]
    },
    {
      "cell_type": "markdown",
      "metadata": {},
      "source": [
        "## K-Means Clustering"
      ]
    },
    {
      "cell_type": "markdown",
      "metadata": {},
      "source": [
        "Using the Elbow Method to determine the right amount of clusters that can be formed for the given dataframe using the sum of square error"
      ]
    },
    {
      "cell_type": "code",
      "execution_count": 77,
      "metadata": {
        "colab": {},
        "colab_type": "code",
        "id": "o6KcI0NMu1dW",
        "outputId": "a5d02ecd-462e-4bac-d2de-b3f271a011a4"
      },
      "outputs": [
        {
          "name": "stdout",
          "output_type": "stream",
          "text": [
            "Index(['Recency', 'Frequency', 'InvoiceNo', 'StockCode', 'Description',\n",
            "       'Quantity', 'InvoiceDate', 'UnitPrice', 'Country'],\n",
            "      dtype='object')\n"
          ]
        },
        {
          "data": {
            "image/png": "[encoded data removed]",
            "text/plain": [
              "<Figure size 640x480 with 1 Axes>"
            ]
          },
          "metadata": {},
          "output_type": "display_data"
        },
        {
          "data": {
            "text/plain": [
              "\"\\nsse = {}\\nfor k in range(1, 11):\\n    kmeans = KMeans(n_clusters=k, random_state=40)\\n    kmeans.fit(rfm_df)\\n    sse[k] = kmeans.inertia_ # SSE to closest cluster centroid\\nplt.title('Number of Clusters determination')\\nplt.xlabel('k value')\\nplt.ylabel('SSE')\\nsns.pointplot(x=list(sse.keys()), y=list(sse.values()))\\nplt.show()\""
            ]
          },
          "execution_count": 77,
          "metadata": {},
          "output_type": "execute_result"
        }
      ],
      "source": [
        "\n",
        "import matplotlib.pyplot as plt\n",
        "import seaborn as sns\n",
        "from sklearn.cluster import KMeans\n",
        "from sklearn.preprocessing import StandardScaler\n",
        "\n",
        "# Assuming rfm_df is already defined and contains the necessary data\n",
        "\n",
        "# Check the columns in rfm_df\n",
        "print(rfm_df.columns)\n",
        "\n",
        "# If 'CustomerID' is not present, ensure you are using the correct DataFrame\n",
        "# Exclude non-numeric columns if necessary\n",
        "rfm_df_numeric = rfm_df.select_dtypes(include=[float, int])\n",
        "\n",
        "# Standardize the data\n",
        "scaler = StandardScaler()\n",
        "rfm_df_scaled = scaler.fit_transform(rfm_df_numeric)\n",
        "\n",
        "# Elbow method to determine the optimal number of clusters\n",
        "sse = {}\n",
        "for k in range(1, 11):\n",
        "    kmeans = KMeans(n_clusters=k, random_state=40)\n",
        "    kmeans.fit(rfm_df_scaled)\n",
        "    sse[k] = kmeans.inertia_  # SSE to closest cluster centroid\n",
        "\n",
        "plt.title('Number of Clusters determination')\n",
        "plt.xlabel('k value')\n",
        "plt.ylabel('SSE')\n",
        "sns.pointplot(x=list(sse.keys()), y=list(sse.values()))\n",
        "plt.show()\n",
        "\n",
        "'''\n",
        "sse = {}\n",
        "for k in range(1, 11):\n",
        "    kmeans = KMeans(n_clusters=k, random_state=40)\n",
        "    kmeans.fit(rfm_df)\n",
        "    sse[k] = kmeans.inertia_ # SSE to closest cluster centroid\n",
        "plt.title('Number of Clusters determination')\n",
        "plt.xlabel('k value')\n",
        "plt.ylabel('SSE')\n",
        "sns.pointplot(x=list(sse.keys()), y=list(sse.values()))\n",
        "plt.show()'''"
      ]
    },
    {
      "cell_type": "markdown",
      "metadata": {},
      "source": [
        "Number of clusters=3"
      ]
    },
    {
      "cell_type": "markdown",
      "metadata": {},
      "source": [
        "Fitting the model on the dataset"
      ]
    },
    {
      "cell_type": "code",
      "execution_count": 82,
      "metadata": {
        "colab": {},
        "colab_type": "code",
        "id": "8G_WpM3Qu1dZ",
        "outputId": "2d7aff09-79c1-4891-d271-221cf956b4c1"
      },
      "outputs": [
        {
          "name": "stdout",
          "output_type": "stream",
          "text": [
            "Cluster Centers:\n",
            " [[ 2.41581121 -1.03735079 -0.19687097  0.09283905]\n",
            " [-0.12508983 -0.29202674 -0.01351016  0.0365305 ]\n",
            " [-0.92028351  1.69655264  0.16421957 -0.19096315]]\n"
          ]
        },
        {
          "data": {
            "text/plain": [
              "'model = KMeans(n_clusters=3, random_state=40)\\nmodel.fit(rfm_df)'"
            ]
          },
          "execution_count": 82,
          "metadata": {},
          "output_type": "execute_result"
        }
      ],
      "source": [
        "\n",
        "\n",
        "# Exclude non-numeric columns\n",
        "rfm_df_numeric = rfm_df.select_dtypes(include=[float, int])\n",
        "\n",
        "# Standardize the data\n",
        "scaler = StandardScaler()\n",
        "rfm_df_scaled = scaler.fit_transform(rfm_df_numeric)\n",
        "\n",
        "# Fit the KMeans model\n",
        "model = KMeans(n_clusters=3, random_state=40)\n",
        "model.fit(rfm_df_scaled)\n",
        "\n",
        "# Print cluster centers\n",
        "print(\"Cluster Centers:\\n\", model.cluster_centers_)\n",
        "\n",
        "'''model = KMeans(n_clusters=3, random_state=40)\n",
        "model.fit(rfm_df)'''"
      ]
    },
    {
      "cell_type": "markdown",
      "metadata": {},
      "source": [
        "Assigning clusters"
      ]
    },
    {
      "cell_type": "code",
      "execution_count": 83,
      "metadata": {
        "colab": {},
        "colab_type": "code",
        "id": "MnGuPHnzu1dd",
        "outputId": "b8033cd6-9e1a-40c6-86ff-c7b174b22103"
      },
      "outputs": [
        {
          "data": {
            "text/html": [
              "<div>\n",
              "<style scoped>\n",
              "    .dataframe tbody tr th:only-of-type {\n",
              "        vertical-align: middle;\n",
              "    }\n",
              "\n",
              "    .dataframe tbody tr th {\n",
              "        vertical-align: top;\n",
              "    }\n",
              "\n",
              "    .dataframe thead th {\n",
              "        text-align: right;\n",
              "    }\n",
              "</style>\n",
              "<table border=\"1\" class=\"dataframe\">\n",
              "  <thead>\n",
              "    <tr style=\"text-align: right;\">\n",
              "      <th></th>\n",
              "      <th>Recency</th>\n",
              "      <th>Frequency</th>\n",
              "      <th>InvoiceNo</th>\n",
              "      <th>StockCode</th>\n",
              "      <th>Description</th>\n",
              "      <th>Quantity</th>\n",
              "      <th>InvoiceDate</th>\n",
              "      <th>UnitPrice</th>\n",
              "      <th>Country</th>\n",
              "      <th>Cluster</th>\n",
              "    </tr>\n",
              "    <tr>\n",
              "      <th>CustomerID</th>\n",
              "      <th></th>\n",
              "      <th></th>\n",
              "      <th></th>\n",
              "      <th></th>\n",
              "      <th></th>\n",
              "      <th></th>\n",
              "      <th></th>\n",
              "      <th></th>\n",
              "      <th></th>\n",
              "      <th></th>\n",
              "    </tr>\n",
              "  </thead>\n",
              "  <tbody>\n",
              "    <tr>\n",
              "      <th>12357.0</th>\n",
              "      <td>23</td>\n",
              "      <td>131</td>\n",
              "      <td>574740</td>\n",
              "      <td>22064</td>\n",
              "      <td>PINK DOUGHNUT TRINKET POT</td>\n",
              "      <td>12</td>\n",
              "      <td>11/06/2011 16:07:00</td>\n",
              "      <td>1.65</td>\n",
              "      <td>Switzerland</td>\n",
              "      <td>1</td>\n",
              "    </tr>\n",
              "    <tr>\n",
              "      <th>12357.0</th>\n",
              "      <td>23</td>\n",
              "      <td>131</td>\n",
              "      <td>574740</td>\n",
              "      <td>21232</td>\n",
              "      <td>STRAWBERRY CERAMIC TRINKET POT</td>\n",
              "      <td>12</td>\n",
              "      <td>11/06/2011 16:07:00</td>\n",
              "      <td>1.25</td>\n",
              "      <td>Switzerland</td>\n",
              "      <td>1</td>\n",
              "    </tr>\n",
              "    <tr>\n",
              "      <th>12357.0</th>\n",
              "      <td>23</td>\n",
              "      <td>131</td>\n",
              "      <td>574740</td>\n",
              "      <td>22066</td>\n",
              "      <td>LOVE HEART TRINKET POT</td>\n",
              "      <td>48</td>\n",
              "      <td>11/06/2011 16:07:00</td>\n",
              "      <td>0.39</td>\n",
              "      <td>Switzerland</td>\n",
              "      <td>1</td>\n",
              "    </tr>\n",
              "    <tr>\n",
              "      <th>12357.0</th>\n",
              "      <td>23</td>\n",
              "      <td>131</td>\n",
              "      <td>574740</td>\n",
              "      <td>22067</td>\n",
              "      <td>CHOC TRUFFLE GOLD TRINKET POT</td>\n",
              "      <td>12</td>\n",
              "      <td>11/06/2011 16:07:00</td>\n",
              "      <td>1.65</td>\n",
              "      <td>Switzerland</td>\n",
              "      <td>1</td>\n",
              "    </tr>\n",
              "    <tr>\n",
              "      <th>12357.0</th>\n",
              "      <td>23</td>\n",
              "      <td>131</td>\n",
              "      <td>574740</td>\n",
              "      <td>21555</td>\n",
              "      <td>CERAMIC STRAWBERRY TRINKET TRAY</td>\n",
              "      <td>6</td>\n",
              "      <td>11/06/2011 16:07:00</td>\n",
              "      <td>2.55</td>\n",
              "      <td>Switzerland</td>\n",
              "      <td>1</td>\n",
              "    </tr>\n",
              "  </tbody>\n",
              "</table>\n",
              "</div>"
            ],
            "text/plain": [
              "            Recency  Frequency InvoiceNo StockCode  \\\n",
              "CustomerID                                           \n",
              "12357.0          23        131    574740     22064   \n",
              "12357.0          23        131    574740     21232   \n",
              "12357.0          23        131    574740     22066   \n",
              "12357.0          23        131    574740     22067   \n",
              "12357.0          23        131    574740     21555   \n",
              "\n",
              "                                Description  Quantity          InvoiceDate  \\\n",
              "CustomerID                                                                   \n",
              "12357.0          PINK DOUGHNUT TRINKET POT         12  11/06/2011 16:07:00   \n",
              "12357.0      STRAWBERRY CERAMIC TRINKET POT        12  11/06/2011 16:07:00   \n",
              "12357.0              LOVE HEART TRINKET POT        48  11/06/2011 16:07:00   \n",
              "12357.0      CHOC TRUFFLE GOLD TRINKET POT         12  11/06/2011 16:07:00   \n",
              "12357.0     CERAMIC STRAWBERRY TRINKET TRAY         6  11/06/2011 16:07:00   \n",
              "\n",
              "            UnitPrice      Country  Cluster  \n",
              "CustomerID                                   \n",
              "12357.0          1.65  Switzerland        1  \n",
              "12357.0          1.25  Switzerland        1  \n",
              "12357.0          0.39  Switzerland        1  \n",
              "12357.0          1.65  Switzerland        1  \n",
              "12357.0          2.55  Switzerland        1  "
            ]
          },
          "execution_count": 83,
          "metadata": {},
          "output_type": "execute_result"
        }
      ],
      "source": [
        "rfm_df[\"Cluster\"] = model.labels_\n",
        "rfm_df.head()"
      ]
    },
    {
      "cell_type": "markdown",
      "metadata": {},
      "source": [
        "Counting number of customers in each cluster"
      ]
    },
    {
      "cell_type": "code",
      "execution_count": 88,
      "metadata": {
        "colab": {},
        "colab_type": "code",
        "id": "alIFTzGhu1dh",
        "outputId": "b54ceec7-f94c-4110-ca49-2a932cd1b397"
      },
      "outputs": [
        {
          "name": "stdout",
          "output_type": "stream",
          "text": [
            "Index(['Recency', 'Frequency', 'InvoiceNo', 'StockCode', 'Description',\n",
            "       'Quantity', 'InvoiceDate', 'UnitPrice', 'Country', 'Cluster',\n",
            "       'Monetary'],\n",
            "      dtype='object')\n",
            "        Recency Frequency Monetary      \n",
            "           mean      mean     mean count\n",
            "Cluster                                 \n",
            "0         254.7      50.2     24.6   205\n",
            "1          61.8     133.2     31.6  1341\n",
            "2           1.0     355.0     25.2   355\n"
          ]
        },
        {
          "data": {
            "text/plain": [
              "\"rfm_df.groupby('Cluster').agg({\\n    'Recency':'mean',\\n    'Frequency':'mean',\\n    'Monetary':['mean', 'count']}).round(1)\""
            ]
          },
          "execution_count": 88,
          "metadata": {},
          "output_type": "execute_result"
        }
      ],
      "source": [
        "\n",
        "# Assuming rfm_df is already defined and contains the necessary data\n",
        "\n",
        "# Calculate the Monetary value\n",
        "rfm_df['Monetary'] = rfm_df['UnitPrice'] * rfm_df['Quantity']\n",
        "\n",
        "# Check the columns in rfm_df\n",
        "print(rfm_df.columns)\n",
        "\n",
        "# Exclude non-numeric columns\n",
        "rfm_df_numeric = rfm_df[['Recency', 'Frequency', 'Monetary']]\n",
        "\n",
        "# Standardize the data\n",
        "scaler = StandardScaler()\n",
        "rfm_df_scaled = scaler.fit_transform(rfm_df_numeric)\n",
        "\n",
        "# Fit the KMeans model\n",
        "model = KMeans(n_clusters=3, random_state=40)\n",
        "rfm_df['Cluster'] = model.fit_predict(rfm_df_scaled)\n",
        "\n",
        "# Group by Cluster and aggregate\n",
        "cluster_summary = rfm_df.groupby('Cluster').agg({\n",
        "    'Recency': 'mean',\n",
        "    'Frequency': 'mean',\n",
        "    'Monetary': ['mean', 'count']\n",
        "}).round(1)\n",
        "\n",
        "print(cluster_summary)\n",
        "\n",
        "\n",
        "#.,...................\n",
        "'''rfm_df.groupby('Cluster').agg({\n",
        "    'Recency':'mean',\n",
        "    'Frequency':'mean',\n",
        "    'Monetary':['mean', 'count']}).round(1)'''"
      ]
    },
    {
      "cell_type": "markdown",
      "metadata": {},
      "source": [
        "Normalizing the data"
      ]
    },
    {
      "cell_type": "code",
      "execution_count": 90,
      "metadata": {
        "colab": {},
        "colab_type": "code",
        "id": "woszhymCu1dm",
        "outputId": "19d9f7f4-9562-4ded-92bd-12da202e9972"
      },
      "outputs": [
        {
          "data": {
            "text/html": [
              "<div>\n",
              "<style scoped>\n",
              "    .dataframe tbody tr th:only-of-type {\n",
              "        vertical-align: middle;\n",
              "    }\n",
              "\n",
              "    .dataframe tbody tr th {\n",
              "        vertical-align: top;\n",
              "    }\n",
              "\n",
              "    .dataframe thead th {\n",
              "        text-align: right;\n",
              "    }\n",
              "</style>\n",
              "<table border=\"1\" class=\"dataframe\">\n",
              "  <thead>\n",
              "    <tr style=\"text-align: right;\">\n",
              "      <th></th>\n",
              "      <th>Recency</th>\n",
              "      <th>Frequency</th>\n",
              "      <th>Monetary</th>\n",
              "      <th>ID</th>\n",
              "      <th>Cluster</th>\n",
              "    </tr>\n",
              "    <tr>\n",
              "      <th>CustomerID</th>\n",
              "      <th></th>\n",
              "      <th></th>\n",
              "      <th></th>\n",
              "      <th></th>\n",
              "      <th></th>\n",
              "    </tr>\n",
              "  </thead>\n",
              "  <tbody>\n",
              "    <tr>\n",
              "      <th>12357.0</th>\n",
              "      <td>23</td>\n",
              "      <td>131</td>\n",
              "      <td>19.80</td>\n",
              "      <td>12357.0</td>\n",
              "      <td>1</td>\n",
              "    </tr>\n",
              "    <tr>\n",
              "      <th>12357.0</th>\n",
              "      <td>23</td>\n",
              "      <td>131</td>\n",
              "      <td>15.00</td>\n",
              "      <td>12357.0</td>\n",
              "      <td>1</td>\n",
              "    </tr>\n",
              "    <tr>\n",
              "      <th>12357.0</th>\n",
              "      <td>23</td>\n",
              "      <td>131</td>\n",
              "      <td>18.72</td>\n",
              "      <td>12357.0</td>\n",
              "      <td>1</td>\n",
              "    </tr>\n",
              "    <tr>\n",
              "      <th>12357.0</th>\n",
              "      <td>23</td>\n",
              "      <td>131</td>\n",
              "      <td>19.80</td>\n",
              "      <td>12357.0</td>\n",
              "      <td>1</td>\n",
              "    </tr>\n",
              "    <tr>\n",
              "      <th>12357.0</th>\n",
              "      <td>23</td>\n",
              "      <td>131</td>\n",
              "      <td>15.30</td>\n",
              "      <td>12357.0</td>\n",
              "      <td>1</td>\n",
              "    </tr>\n",
              "  </tbody>\n",
              "</table>\n",
              "</div>"
            ],
            "text/plain": [
              "            Recency  Frequency  Monetary       ID  Cluster\n",
              "CustomerID                                                \n",
              "12357.0          23        131     19.80  12357.0        1\n",
              "12357.0          23        131     15.00  12357.0        1\n",
              "12357.0          23        131     18.72  12357.0        1\n",
              "12357.0          23        131     19.80  12357.0        1\n",
              "12357.0          23        131     15.30  12357.0        1"
            ]
          },
          "execution_count": 90,
          "metadata": {},
          "output_type": "execute_result"
        }
      ],
      "source": [
        "df_rfm = pd.DataFrame(rfm_df, columns=['Recency', 'Frequency', 'Monetary'])\n",
        "df_rfm['ID'] = rfm_df.index\n",
        "df_rfm['Cluster'] = model.labels_\n",
        "df_rfm.head()"
      ]
    },
    {
      "cell_type": "markdown",
      "metadata": {},
      "source": [
        "Preparing the data for visualisation using a snake plot"
      ]
    },
    {
      "cell_type": "code",
      "execution_count": 91,
      "metadata": {
        "colab": {},
        "colab_type": "code",
        "id": "wB5kQfjfu1dq",
        "outputId": "cadc67f4-e7f7-4e2e-b839-c10ff9e274dd"
      },
      "outputs": [
        {
          "data": {
            "text/html": [
              "<div>\n",
              "<style scoped>\n",
              "    .dataframe tbody tr th:only-of-type {\n",
              "        vertical-align: middle;\n",
              "    }\n",
              "\n",
              "    .dataframe tbody tr th {\n",
              "        vertical-align: top;\n",
              "    }\n",
              "\n",
              "    .dataframe thead th {\n",
              "        text-align: right;\n",
              "    }\n",
              "</style>\n",
              "<table border=\"1\" class=\"dataframe\">\n",
              "  <thead>\n",
              "    <tr style=\"text-align: right;\">\n",
              "      <th></th>\n",
              "      <th>ID</th>\n",
              "      <th>Cluster</th>\n",
              "      <th>Attribute</th>\n",
              "      <th>Value</th>\n",
              "    </tr>\n",
              "  </thead>\n",
              "  <tbody>\n",
              "    <tr>\n",
              "      <th>0</th>\n",
              "      <td>12357.0</td>\n",
              "      <td>1</td>\n",
              "      <td>Recency</td>\n",
              "      <td>23.0</td>\n",
              "    </tr>\n",
              "    <tr>\n",
              "      <th>1</th>\n",
              "      <td>12357.0</td>\n",
              "      <td>1</td>\n",
              "      <td>Recency</td>\n",
              "      <td>23.0</td>\n",
              "    </tr>\n",
              "    <tr>\n",
              "      <th>2</th>\n",
              "      <td>12357.0</td>\n",
              "      <td>1</td>\n",
              "      <td>Recency</td>\n",
              "      <td>23.0</td>\n",
              "    </tr>\n",
              "    <tr>\n",
              "      <th>3</th>\n",
              "      <td>12357.0</td>\n",
              "      <td>1</td>\n",
              "      <td>Recency</td>\n",
              "      <td>23.0</td>\n",
              "    </tr>\n",
              "    <tr>\n",
              "      <th>4</th>\n",
              "      <td>12357.0</td>\n",
              "      <td>1</td>\n",
              "      <td>Recency</td>\n",
              "      <td>23.0</td>\n",
              "    </tr>\n",
              "  </tbody>\n",
              "</table>\n",
              "</div>"
            ],
            "text/plain": [
              "        ID  Cluster Attribute  Value\n",
              "0  12357.0        1   Recency   23.0\n",
              "1  12357.0        1   Recency   23.0\n",
              "2  12357.0        1   Recency   23.0\n",
              "3  12357.0        1   Recency   23.0\n",
              "4  12357.0        1   Recency   23.0"
            ]
          },
          "execution_count": 91,
          "metadata": {},
          "output_type": "execute_result"
        }
      ],
      "source": [
        "rfm = pd.melt(df_rfm.reset_index(),\n",
        "                      id_vars=['ID', 'Cluster'],\n",
        "                      value_vars=['Recency','Frequency','Monetary'],\n",
        "                      var_name='Attribute',\n",
        "                      value_name='Value')\n",
        "rfm.head()"
      ]
    },
    {
      "cell_type": "code",
      "execution_count": 93,
      "metadata": {
        "colab": {},
        "colab_type": "code",
        "id": "IRllKc5Fu1dv",
        "outputId": "729c462e-f55c-4d0d-f58c-9e6554dde7da"
      },
      "outputs": [
        {
          "data": {
            "image/png": "[encoded data removed]",
            "text/plain": [
              "<Figure size 640x480 with 1 Axes>"
            ]
          },
          "metadata": {},
          "output_type": "display_data"
        }
      ],
      "source": [
        "#sns.lineplot('Attribute', 'Value',style='Cluster', data=rfm)\n",
        "\n",
        "\n",
        "# Assuming rfm_df is already defined and contains the necessary data\n",
        "\n",
        "# Melt the DataFrame to long format\n",
        "rfm_melted = rfm_df.melt(id_vars=['Cluster'], value_vars=['Recency', 'Frequency', 'Monetary'], \n",
        "                         var_name='Attribute', value_name='Value')\n",
        "\n",
        "# Create the line plot\n",
        "sns.lineplot(x='Attribute', y='Value', hue='Cluster', style='Cluster', data=rfm_melted)\n",
        "\n",
        "plt.title('RFM Attributes by Cluster')\n",
        "plt.xlabel('Attribute')\n",
        "plt.ylabel('Value')\n",
        "plt.legend(title='Cluster')\n",
        "plt.show()\n"
      ]
    },
    {
      "cell_type": "markdown",
      "metadata": {},
      "source": [
        "Cluster 1: Best customers"
      ]
    },
    {
      "cell_type": "markdown",
      "metadata": {},
      "source": [
        "Cluster 2: Lost customers"
      ]
    },
    {
      "cell_type": "markdown",
      "metadata": {},
      "source": [
        "Cluster 0: Potential customers"
      ]
    },
    {
      "cell_type": "code",
      "execution_count": 94,
      "metadata": {},
      "outputs": [
        {
          "data": {
            "text/html": [
              "<div>\n",
              "<style scoped>\n",
              "    .dataframe tbody tr th:only-of-type {\n",
              "        vertical-align: middle;\n",
              "    }\n",
              "\n",
              "    .dataframe tbody tr th {\n",
              "        vertical-align: top;\n",
              "    }\n",
              "\n",
              "    .dataframe thead th {\n",
              "        text-align: right;\n",
              "    }\n",
              "</style>\n",
              "<table border=\"1\" class=\"dataframe\">\n",
              "  <thead>\n",
              "    <tr style=\"text-align: right;\">\n",
              "      <th></th>\n",
              "      <th>index</th>\n",
              "      <th>CustomerID</th>\n",
              "      <th>Recency</th>\n",
              "      <th>Frequency</th>\n",
              "      <th>Monetary</th>\n",
              "      <th>ID</th>\n",
              "      <th>Cluster</th>\n",
              "    </tr>\n",
              "  </thead>\n",
              "  <tbody>\n",
              "    <tr>\n",
              "      <th>0</th>\n",
              "      <td>0</td>\n",
              "      <td>12357.0</td>\n",
              "      <td>23</td>\n",
              "      <td>131</td>\n",
              "      <td>19.80</td>\n",
              "      <td>12357.0</td>\n",
              "      <td>1</td>\n",
              "    </tr>\n",
              "    <tr>\n",
              "      <th>1</th>\n",
              "      <td>1</td>\n",
              "      <td>12357.0</td>\n",
              "      <td>23</td>\n",
              "      <td>131</td>\n",
              "      <td>15.00</td>\n",
              "      <td>12357.0</td>\n",
              "      <td>1</td>\n",
              "    </tr>\n",
              "    <tr>\n",
              "      <th>2</th>\n",
              "      <td>2</td>\n",
              "      <td>12357.0</td>\n",
              "      <td>23</td>\n",
              "      <td>131</td>\n",
              "      <td>18.72</td>\n",
              "      <td>12357.0</td>\n",
              "      <td>1</td>\n",
              "    </tr>\n",
              "    <tr>\n",
              "      <th>3</th>\n",
              "      <td>3</td>\n",
              "      <td>12357.0</td>\n",
              "      <td>23</td>\n",
              "      <td>131</td>\n",
              "      <td>19.80</td>\n",
              "      <td>12357.0</td>\n",
              "      <td>1</td>\n",
              "    </tr>\n",
              "    <tr>\n",
              "      <th>4</th>\n",
              "      <td>4</td>\n",
              "      <td>12357.0</td>\n",
              "      <td>23</td>\n",
              "      <td>131</td>\n",
              "      <td>15.30</td>\n",
              "      <td>12357.0</td>\n",
              "      <td>1</td>\n",
              "    </tr>\n",
              "  </tbody>\n",
              "</table>\n",
              "</div>"
            ],
            "text/plain": [
              "   index  CustomerID  Recency  Frequency  Monetary       ID  Cluster\n",
              "0      0     12357.0       23        131     19.80  12357.0        1\n",
              "1      1     12357.0       23        131     15.00  12357.0        1\n",
              "2      2     12357.0       23        131     18.72  12357.0        1\n",
              "3      3     12357.0       23        131     19.80  12357.0        1\n",
              "4      4     12357.0       23        131     15.30  12357.0        1"
            ]
          },
          "execution_count": 94,
          "metadata": {},
          "output_type": "execute_result"
        }
      ],
      "source": [
        "df_rfm=df_rfm.reset_index()\n",
        "df_rfm=df_rfm.reset_index()\n",
        "df_rfm.head()"
      ]
    },
    {
      "cell_type": "markdown",
      "metadata": {},
      "source": [
        "Dot plot for cluster visualization"
      ]
    },
    {
      "cell_type": "code",
      "execution_count": 116,
      "metadata": {},
      "outputs": [],
      "source": [
        "fig = go.Figure()\n",
        "fig.add_trace(go.Scatter(x=df_rfm['index'], y=df_rfm['Cluster'],\n",
        "                    mode='markers',\n",
        "                    marker_color=df_rfm['Cluster'],\n",
        "                    marker_size=16,\n",
        "                    text=df_rfm['Cluster'],\n",
        "                    )),\n",
        "fig.update_yaxes(nticks=3)\n",
        "fig.update_xaxes(nticks=20)\n",
        "fig.update_layout(\n",
        "    title=\"Customer clusters\",\n",
        "    xaxis_title=\"Customer ID(ref)\",\n",
        "    yaxis_title=\"Cluster\",\n",
        "    legend_title=\"Legend Title\",\n",
        "    autosize=False,width=500,height=400,\n",
        "    font=dict(\n",
        "        size=15),\n",
        "    plot_bgcolor='#DDCFF4'\n",
        "    \n",
        ")\n",
        "import plotly.io as pio\n",
        "\n",
        "\n",
        "\n",
        "# Set Plotly renderer to 'browser' or 'notebook'\n",
        "pio.renderers.default = 'browser'  # This opens the plot in a new browser tab\n",
        "\n",
        "fig.show()\n",
        "#..............\n"
      ]
    }
  ],
  "metadata": {
    "colab": {
      "name": "1.ipynb",
      "provenance": []
    },
    "kernelspec": {
      "display_name": ".venv",
      "language": "python",
      "name": "python3"
    },
    "language_info": {
      "codemirror_mode": {
        "name": "ipython",
        "version": 3
      },
      "file_extension": ".py",
      "mimetype": "text/x-python",
      "name": "python",
      "nbconvert_exporter": "python",
      "pygments_lexer": "ipython3",
      "version": "3.12.5"
    },
    "orig_nbformat": 2
  },
  "nbformat": 4,
  "nbformat_minor": 0
}
